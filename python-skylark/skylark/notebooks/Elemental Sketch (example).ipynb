{
 "metadata": {
  "name": ""
 },
 "nbformat": 3,
 "nbformat_minor": 0,
 "worksheets": [
  {
   "cells": [
    {
     "cell_type": "code",
     "collapsed": false,
     "input": [
      "# prevent mpi4py from calling MPI_Finalize()\n",
      "import mpi4py.rc\n",
      "mpi4py.rc.finalize = False\n",
      "\n",
      "import El\n",
      "from skylark import sketch, elemhelper\n",
      "from mpi4py import MPI\n",
      "import numpy as np\n",
      "import time\n",
      "\n",
      "# Configuration\n",
      "m = 2000#0\n",
      "n = 30#0\n",
      "t = 100#0\n",
      "\n",
      "\n",
      "# Set up the random regression problem.\n",
      "A = El.DistMatrix(El.dTag, El.VR, El.STAR)\n",
      "El.Uniform(A, m, n)\n",
      "b = El.DistMatrix(El.dTag, El.VR, El.STAR)\n",
      "El.Uniform(b, m, 1)"
     ],
     "language": "python",
     "metadata": {},
     "outputs": [],
     "prompt_number": 1
    },
    {
     "cell_type": "markdown",
     "metadata": {},
     "source": [
      "### Solve using Elemental"
     ]
    },
    {
     "cell_type": "code",
     "collapsed": false,
     "input": [
      "# Elemental currently does not support LS on VR,STAR.\n",
      "# So we copy.\n",
      "A1 = El.DistMatrix()\n",
      "El.Copy(A, A1)\n",
      "b1 = El.DistMatrix()\n",
      "El.Copy(b, b1)\n",
      "x = El.DistMatrix(El.dTag, El.MC, El.MR)\n",
      "El.Uniform(x, n, 1)\n",
      "t0 = time.time()\n",
      "El.LeastSquares(A1, b1, El.NORMAL, x)\n",
      "telp = time.time() - t0\n",
      "\n",
      "# Compute residual\n",
      "r = El.DistMatrix()\n",
      "El.Copy(b, r)\n",
      "El.Gemv(El.NORMAL, -1.0, A1, x, 1.0, r)\n",
      "res = El.Norm(r)\n",
      "if (MPI.COMM_WORLD.Get_rank() == 0):\n",
      "  print \"Exact solution residual %(res).3f\\t\\t\\ttook %(elp).2e sec\" % \\\n",
      "      { \"res\" : res, \"elp\": telp }"
     ],
     "language": "python",
     "metadata": {},
     "outputs": [
      {
       "output_type": "stream",
       "stream": "stdout",
       "text": [
        "Exact solution residual 88.420\t\t\ttook 3.61e-03 sec\n"
       ]
      }
     ],
     "prompt_number": 3
    },
    {
     "cell_type": "markdown",
     "metadata": {},
     "source": [
      "### Solve using sketching (libSkylark)"
     ]
    },
    {
     "cell_type": "code",
     "collapsed": false,
     "input": [
      "# Lower-layers are automatically initilalized when you import Skylark,\n",
      "# It will use system time to generate the seed. However, we can \n",
      "# reinitialize for so to fix the seed.\n",
      "sketch.initialize(123834);\n",
      "\n",
      "sketches = { \"JLT\" : sketch.JLT, \"CWT\" : sketch.CWT }\n",
      "\n",
      "for sname in sketches:\n",
      "  stype = sketches[sname]\n",
      "  \n",
      "  t0 = time.time()\n",
      "\n",
      "  # Create transform. \n",
      "  S = stype(m, t, defouttype=\"SharedMatrix\")\n",
      "\n",
      "  # Sketch both A and b using the same sketch\n",
      "  SA = S * A\n",
      "  Sb = S * b\n",
      "  \n",
      "  # SA and Sb reside on rank zero, so solving the equation is \n",
      "  # done there.\n",
      "  if (MPI.COMM_WORLD.Get_rank() == 0):\n",
      "    # Solve using NumPy\n",
      "    [x, res, rank, s] = np.linalg.lstsq(SA.Matrix().ToNumPy(), Sb.Matrix().ToNumPy())\n",
      "  else:\n",
      "    x = None\n",
      "\n",
      "  telp = time.time() - t0\n",
      "\n",
      "  # Distribute the solution so to compute residual in a distributed fashion\n",
      "  x = MPI.COMM_WORLD.bcast(x, root=0)\n",
      "    \n",
      "  # Convert x to a distributed matrix.\n",
      "  # Here we give the type explictly, but the value used is the default.\n",
      "  x = elemhelper.local2distributed(x, type=El.DistMatrix)\n",
      "\n",
      "  # Compute residual\n",
      "  r = El.DistMatrix()\n",
      "  El.Copy(b, r)\n",
      "  El.Gemv(El.NORMAL, -1.0, A1, x, 1.0, r)\n",
      "  res = El.Norm(r)\n",
      "  if (MPI.COMM_WORLD.Get_rank() == 0):\n",
      "    print \"%(name)s:\\tSketched solution residual %(val).3f\\ttook %(elp).2e sec\" %\\\n",
      "        {\"name\" : sname, \"val\" : res, \"elp\" : telp}\n",
      "\n",
      "  # As with all Python object they will be automatically garbage\n",
      "  # collected, and the associated memory will be freed.\n",
      "  # You can also explicitly free them.\n",
      "  del S     # S = 0 will also free memory.\n",
      "\n",
      "# Really no need to \"close\" the lower layers -- it will do it automatically.\n",
      "# However, if you really want to you can do it.\n",
      "sketch.finalize()"
     ],
     "language": "python",
     "metadata": {},
     "outputs": [
      {
       "output_type": "stream",
       "stream": "stdout",
       "text": [
        "JLT:\tSketched solution residual 33.789\ttook 7.17e-02 sec\n",
        "CWT:\tSketched solution residual 30.784\ttook 3.82e-03 sec\n"
       ]
      }
     ],
     "prompt_number": 4
    },
    {
     "cell_type": "code",
     "collapsed": false,
     "input": [],
     "language": "python",
     "metadata": {},
     "outputs": []
    }
   ],
   "metadata": {}
  }
 ]
}